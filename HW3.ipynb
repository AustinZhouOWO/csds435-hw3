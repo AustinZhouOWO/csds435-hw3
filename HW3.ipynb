{
 "cells": [
  {
   "cell_type": "code",
   "execution_count": 1,
   "metadata": {},
   "outputs": [],
   "source": [
    "import numpy as np\n",
    "from pandas.core.common import flatten\n",
    "from collections import Counter "
   ]
  },
  {
   "cell_type": "code",
   "execution_count": 2,
   "metadata": {},
   "outputs": [],
   "source": [
    "def removeElements(lst, k): \n",
    "    counted = Counter(lst) \n",
    "    return [el for el in lst if counted[el] >= k] "
   ]
  },
  {
   "cell_type": "code",
   "execution_count": 3,
   "metadata": {},
   "outputs": [],
   "source": [
    "def calculate_and_sort(x):\n",
    "    x = removeElements(list(flatten(x)), 2)\n",
    "    y,z = np.unique(x, return_counts=True)\n",
    "    n=np.argsort(-z)\n",
    "    y=y[n]\n",
    "    return y"
   ]
  },
  {
   "cell_type": "code",
   "execution_count": 4,
   "metadata": {},
   "outputs": [],
   "source": [
    "class Node:\n",
    "    def __init__(self, value):\n",
    "        self.list=[]\n",
    "        self.data = value\n",
    "        self.count = 1\n",
    "        self.parent = None\n",
    "    \n",
    "    def search(self, value):\n",
    "        for i in self.list:\n",
    "            if i.data == value:\n",
    "                return i\n",
    "        return None\n",
    "    \n",
    "    def find_parent(self):\n",
    "        return self.parent"
   ]
  },
  {
   "cell_type": "code",
   "execution_count": 5,
   "metadata": {},
   "outputs": [],
   "source": [
    "class Tree:\n",
    "    def __init__(self, node):\n",
    "        self.root=node\n",
    "        self.my_dict={}\n",
    "        \n",
    "    def createNode(self, data):\n",
    "        return Node(data)\n",
    "\n",
    "    def insert(self, node , data):\n",
    "        if node is None:\n",
    "            return self.createNode(data)\n",
    "        if data == node.data:\n",
    "            node.count = node.count + 1\n",
    "        elif node.search(data) is not None:\n",
    "            node = node.search(data)\n",
    "            node.count = node.count + 1\n",
    "        else:\n",
    "            x = Node(data)\n",
    "            if self.my_dict.get(data) is None:\n",
    "                self.my_dict[data]=[x]\n",
    "            else:\n",
    "                self.my_dict[data].append(x)\n",
    "            node.list.append(x)\n",
    "            x.parent = node\n",
    "            node = x\n",
    "        return node\n",
    "    \n",
    "    def insert_list(self,node,l):\n",
    "        for i in l:\n",
    "            node = self.insert(node,i)\n",
    "\n",
    "\n",
    "    def print_list(self,root):\n",
    "        print(root.data)\n",
    "        if root.list != []:\n",
    "            if len(root.list)>1:\n",
    "                print('start branch')\n",
    "            for i in root.list:\n",
    "                self.print_list(i)\n",
    "        else:\n",
    "            print('end branch')\n",
    "    \n",
    "    def print_while_remove(self,root):\n",
    "        x= root\n",
    "        while x.list != []:\n",
    "            if (x.list[0].list == []):\n",
    "                x.list[0].count = x.list[0].count-1\n",
    "                print(x.list[0].data)\n",
    "                if (x.list[0].count == 0):\n",
    "                    self.remove(x,0)\n",
    "                print(\"End of branch\")\n",
    "                x=root\n",
    "            else:\n",
    "                x.list[0].count = x.list[0].count-1\n",
    "                print(x.list[0].data)\n",
    "                y = x.list[0]\n",
    "                if (x.list[0].count == 0):\n",
    "                    self.remove(x,0)\n",
    "                x=y\n",
    "                    \n",
    "            \n",
    "    \n",
    "    def remove(self,node,index):\n",
    "        node.list.pop(0)\n",
    "    \n",
    "    def find_leaf(self, name):\n",
    "        return self.my_dict.get(name)"
   ]
  },
  {
   "cell_type": "code",
   "execution_count": 6,
   "metadata": {},
   "outputs": [],
   "source": [
    "def reconstruct (name, tree):\n",
    "    l = tree.find_leaf(name)\n",
    "    l2 = []\n",
    "    count = 0\n",
    "    for i in l:\n",
    "        print (\"Itemset\", count, \" has count \",i.count)\n",
    "        count = count + 1\n",
    "        l3 = []\n",
    "        i = i.parent\n",
    "        while i is not tree.root:\n",
    "            l3.append(i.data)\n",
    "            i = i.parent\n",
    "        l2.append(l3)\n",
    "    return l2"
   ]
  },
  {
   "cell_type": "code",
   "execution_count": 7,
   "metadata": {},
   "outputs": [],
   "source": [
    "def get_conditional_pattern(name,tree,x):\n",
    "    for i in x:\n",
    "        tree.insert_list(tree.root,i)\n",
    "    return reconstruct(name, tree)"
   ]
  },
  {
   "cell_type": "markdown",
   "metadata": {},
   "source": [
    "#### Origin Data"
   ]
  },
  {
   "cell_type": "code",
   "execution_count": 8,
   "metadata": {},
   "outputs": [],
   "source": [
    "x=[\n",
    "    ['Bread','Milk'],\n",
    "    ['Bread','Diaper','Beer'],\n",
    "    ['Milk','Diaper','Beer','Coke'],\n",
    "    ['Bread','Milk','Diaper','Beer'],\n",
    "    ['Bread','Milk','Diaper','Coke']\n",
    "]"
   ]
  },
  {
   "cell_type": "markdown",
   "metadata": {},
   "source": [
    "#### Origin F-P Tree"
   ]
  },
  {
   "cell_type": "code",
   "execution_count": 9,
   "metadata": {},
   "outputs": [],
   "source": [
    "tree = Tree(Node(None))"
   ]
  },
  {
   "cell_type": "code",
   "execution_count": 10,
   "metadata": {},
   "outputs": [
    {
     "name": "stdout",
     "output_type": "stream",
     "text": [
      "Bread\n",
      "Milk\n",
      "Diaper\n",
      "Beer\n",
      "End of branch\n",
      "Bread\n",
      "Milk\n",
      "Diaper\n",
      "Coke\n",
      "End of branch\n",
      "Bread\n",
      "Milk\n",
      "End of branch\n",
      "Bread\n",
      "Diaper\n",
      "Beer\n",
      "End of branch\n",
      "Milk\n",
      "Diaper\n",
      "Beer\n",
      "Coke\n",
      "End of branch\n"
     ]
    }
   ],
   "source": [
    "for i in x:\n",
    "    tree.insert_list(tree.root,i)\n",
    "tree.print_while_remove(tree.root)\n",
    "for i in x:\n",
    "    tree.insert_list(tree.root,i)"
   ]
  },
  {
   "cell_type": "markdown",
   "metadata": {},
   "source": [
    "#### Header Table sorted"
   ]
  },
  {
   "cell_type": "code",
   "execution_count": 11,
   "metadata": {
    "scrolled": true
   },
   "outputs": [
    {
     "data": {
      "text/plain": [
       "array(['Bread', 'Diaper', 'Milk', 'Beer', 'Coke'], dtype='<U6')"
      ]
     },
     "execution_count": 11,
     "metadata": {},
     "output_type": "execute_result"
    }
   ],
   "source": [
    "table = calculate_and_sort(x)\n",
    "table"
   ]
  },
  {
   "cell_type": "markdown",
   "metadata": {},
   "source": [
    "#### Select Least Counted element, 'Coke'"
   ]
  },
  {
   "cell_type": "code",
   "execution_count": 12,
   "metadata": {},
   "outputs": [
    {
     "name": "stdout",
     "output_type": "stream",
     "text": [
      "Itemset 0  has count  1\n",
      "Itemset 1  has count  1\n"
     ]
    },
    {
     "data": {
      "text/plain": [
       "[['Beer', 'Diaper', 'Milk'], ['Diaper', 'Milk', 'Bread']]"
      ]
     },
     "execution_count": 12,
     "metadata": {},
     "output_type": "execute_result"
    }
   ],
   "source": [
    "tree = Tree(Node(None))\n",
    "new_x = get_conditional_pattern(table[-1],tree,x)\n",
    "new_x"
   ]
  },
  {
   "cell_type": "code",
   "execution_count": 13,
   "metadata": {},
   "outputs": [
    {
     "name": "stdout",
     "output_type": "stream",
     "text": [
      "Beer\n",
      "Diaper\n",
      "Milk\n",
      "End of branch\n",
      "Diaper\n",
      "Milk\n",
      "Bread\n",
      "End of branch\n"
     ]
    }
   ],
   "source": [
    "new_tree= Tree(Node(None))\n",
    "for i in new_x:\n",
    "    new_tree.insert_list(new_tree.root,i)\n",
    "new_tree.print_while_remove(new_tree.root)"
   ]
  },
  {
   "cell_type": "code",
   "execution_count": 14,
   "metadata": {},
   "outputs": [
    {
     "data": {
      "text/plain": [
       "array(['Diaper', 'Milk'], dtype='<U6')"
      ]
     },
     "execution_count": 14,
     "metadata": {},
     "output_type": "execute_result"
    }
   ],
   "source": [
    "new_table = calculate_and_sort(new_x)\n",
    "new_table"
   ]
  },
  {
   "cell_type": "markdown",
   "metadata": {},
   "source": [
    "#### Select Least Counted element, 'Beer'"
   ]
  },
  {
   "cell_type": "code",
   "execution_count": 15,
   "metadata": {},
   "outputs": [
    {
     "name": "stdout",
     "output_type": "stream",
     "text": [
      "Itemset 0  has count  1\n",
      "Itemset 1  has count  1\n",
      "Itemset 2  has count  1\n"
     ]
    },
    {
     "data": {
      "text/plain": [
       "[['Diaper', 'Bread'], ['Diaper', 'Milk'], ['Diaper', 'Milk', 'Bread']]"
      ]
     },
     "execution_count": 15,
     "metadata": {},
     "output_type": "execute_result"
    }
   ],
   "source": [
    "tree = Tree(Node(None))\n",
    "new_x = get_conditional_pattern(table[-2],tree,x)\n",
    "new_x"
   ]
  },
  {
   "cell_type": "code",
   "execution_count": 16,
   "metadata": {},
   "outputs": [
    {
     "name": "stdout",
     "output_type": "stream",
     "text": [
      "Diaper\n",
      "Bread\n",
      "End of branch\n",
      "Diaper\n",
      "Milk\n",
      "Bread\n",
      "End of branch\n",
      "Diaper\n",
      "Milk\n",
      "End of branch\n"
     ]
    }
   ],
   "source": [
    "new_tree= Tree(Node(None))\n",
    "for i in new_x:\n",
    "    new_tree.insert_list(new_tree.root,i)\n",
    "new_tree.print_while_remove(new_tree.root)"
   ]
  },
  {
   "cell_type": "code",
   "execution_count": 17,
   "metadata": {},
   "outputs": [
    {
     "data": {
      "text/plain": [
       "array(['Diaper', 'Bread', 'Milk'], dtype='<U6')"
      ]
     },
     "execution_count": 17,
     "metadata": {},
     "output_type": "execute_result"
    }
   ],
   "source": [
    "new_table = calculate_and_sort(new_x)\n",
    "new_table"
   ]
  },
  {
   "cell_type": "markdown",
   "metadata": {},
   "source": [
    "#### Select Least Counted element, 'Milk'"
   ]
  },
  {
   "cell_type": "code",
   "execution_count": 18,
   "metadata": {},
   "outputs": [
    {
     "name": "stdout",
     "output_type": "stream",
     "text": [
      "Itemset 0  has count  3\n",
      "Itemset 1  has count  1\n"
     ]
    },
    {
     "data": {
      "text/plain": [
       "[['Bread'], []]"
      ]
     },
     "execution_count": 18,
     "metadata": {},
     "output_type": "execute_result"
    }
   ],
   "source": [
    "tree = Tree(Node(None))\n",
    "new_x = get_conditional_pattern(table[-3],tree,x)\n",
    "new_x"
   ]
  },
  {
   "cell_type": "code",
   "execution_count": 19,
   "metadata": {},
   "outputs": [
    {
     "name": "stdout",
     "output_type": "stream",
     "text": [
      "Bread\n",
      "End of branch\n"
     ]
    }
   ],
   "source": [
    "new_tree= Tree(Node(None))\n",
    "for i in new_x:\n",
    "    new_tree.insert_list(new_tree.root,i)\n",
    "new_tree.print_while_remove(new_tree.root)"
   ]
  },
  {
   "cell_type": "markdown",
   "metadata": {},
   "source": [
    "#### Select Least Counted element, 'Diaper'"
   ]
  },
  {
   "cell_type": "code",
   "execution_count": 20,
   "metadata": {},
   "outputs": [
    {
     "name": "stdout",
     "output_type": "stream",
     "text": [
      "Itemset 0  has count  1\n",
      "Itemset 1  has count  1\n",
      "Itemset 2  has count  2\n"
     ]
    },
    {
     "data": {
      "text/plain": [
       "[['Bread'], ['Milk'], ['Milk', 'Bread']]"
      ]
     },
     "execution_count": 20,
     "metadata": {},
     "output_type": "execute_result"
    }
   ],
   "source": [
    "tree = Tree(Node(None))\n",
    "new_x = get_conditional_pattern(table[-4],tree,x)\n",
    "new_x"
   ]
  },
  {
   "cell_type": "code",
   "execution_count": 21,
   "metadata": {},
   "outputs": [
    {
     "name": "stdout",
     "output_type": "stream",
     "text": [
      "Bread\n",
      "End of branch\n",
      "Milk\n",
      "Bread\n",
      "End of branch\n",
      "Milk\n",
      "End of branch\n"
     ]
    }
   ],
   "source": [
    "new_tree= Tree(Node(None))\n",
    "for i in new_x:\n",
    "    new_tree.insert_list(new_tree.root,i)\n",
    "new_tree.print_while_remove(new_tree.root)"
   ]
  },
  {
   "cell_type": "markdown",
   "metadata": {},
   "source": [
    "#### Select Least Counted element, 'Bread'"
   ]
  },
  {
   "cell_type": "code",
   "execution_count": 22,
   "metadata": {},
   "outputs": [
    {
     "name": "stdout",
     "output_type": "stream",
     "text": [
      "Itemset 0  has count  4\n"
     ]
    },
    {
     "data": {
      "text/plain": [
       "[[]]"
      ]
     },
     "execution_count": 22,
     "metadata": {},
     "output_type": "execute_result"
    }
   ],
   "source": [
    "tree = Tree(Node(None))\n",
    "new_x = get_conditional_pattern(table[-5],tree,x)\n",
    "new_x"
   ]
  },
  {
   "cell_type": "code",
   "execution_count": 23,
   "metadata": {},
   "outputs": [],
   "source": [
    "new_tree= Tree(Node(None))\n",
    "for i in new_x:\n",
    "    new_tree.insert_list(new_tree.root,i)\n",
    "new_tree.print_while_remove(new_tree.root)"
   ]
  },
  {
   "cell_type": "markdown",
   "metadata": {},
   "source": [
    "#### Create Frequency dictonary"
   ]
  },
  {
   "cell_type": "code",
   "execution_count": 24,
   "metadata": {},
   "outputs": [],
   "source": [
    "frequent_dict={}"
   ]
  },
  {
   "cell_type": "code",
   "execution_count": 25,
   "metadata": {},
   "outputs": [],
   "source": [
    "a = ['Bread']\n",
    "b = ['Milk']\n",
    "c = ['Diaper']\n",
    "d = ['Beer']\n",
    "e = ['Coke']\n",
    "f = ['Bread', 'Milk']\n",
    "g = ['Bread', 'Diaper']\n",
    "h = ['Bread', 'Beer']\n",
    "i = ['Milk', 'Diaper']\n",
    "j = ['Milk', 'Beer']\n",
    "k = ['Milk', 'Coke']\n",
    "l = ['Diaper', 'Beer']\n",
    "m = ['Diaper', 'Coke']\n",
    "n = ['Bread', 'Milk', 'Diaper']\n",
    "o = ['Bread', 'Diaper', 'Beer']\n",
    "p = ['Milk', 'Diaper', 'Beer']\n",
    "q = ['Milk', 'Diaper', 'Coke']"
   ]
  },
  {
   "cell_type": "code",
   "execution_count": 26,
   "metadata": {},
   "outputs": [],
   "source": [
    "frequent_dict[frozenset(a)]=4\n",
    "frequent_dict[frozenset(b)]=4\n",
    "frequent_dict[frozenset(c)]=4\n",
    "frequent_dict[frozenset(d)]=3\n",
    "frequent_dict[frozenset(e)]=2\n",
    "frequent_dict[frozenset(f)]=3\n",
    "frequent_dict[frozenset(g)]=3\n",
    "frequent_dict[frozenset(h)]=2\n",
    "frequent_dict[frozenset(i)]=3\n",
    "frequent_dict[frozenset(j)]=2\n",
    "frequent_dict[frozenset(k)]=2\n",
    "frequent_dict[frozenset(l)]=3\n",
    "frequent_dict[frozenset(m)]=2\n",
    "frequent_dict[frozenset(n)]=2\n",
    "frequent_dict[frozenset(o)]=2\n",
    "frequent_dict[frozenset(p)]=2\n",
    "frequent_dict[frozenset(q)]=2"
   ]
  },
  {
   "cell_type": "code",
   "execution_count": 27,
   "metadata": {},
   "outputs": [],
   "source": [
    "freq_list= [['Bread'],['Milk'],['Diaper'],['Beer'],['Coke'],['Bread', 'Milk'],['Bread', 'Diaper'],['Bread', 'Beer'],['Milk', 'Diaper'],['Milk', 'Beer'],['Milk', 'Coke'],['Diaper', 'Beer'],['Diaper', 'Coke'],['Bread', 'Milk', 'Diaper'],['Bread', 'Diaper', 'Beer'],['Milk', 'Diaper', 'Beer'],['Milk', 'Diaper', 'Coke']]"
   ]
  },
  {
   "cell_type": "code",
   "execution_count": 28,
   "metadata": {},
   "outputs": [],
   "source": [
    "def check_contain(l1, l2):\n",
    "    return(all(x in l2 for x in l1))\n",
    "        "
   ]
  },
  {
   "cell_type": "code",
   "execution_count": 29,
   "metadata": {},
   "outputs": [],
   "source": [
    "def remove_duplicate(l1,l2):\n",
    "    return[x for x in l2 if x not in l1]"
   ]
  },
  {
   "cell_type": "markdown",
   "metadata": {},
   "source": [
    "#### Association Rule"
   ]
  },
  {
   "cell_type": "code",
   "execution_count": 30,
   "metadata": {},
   "outputs": [
    {
     "name": "stdout",
     "output_type": "stream",
     "text": [
      "['Bread'] -> ['Milk']\n",
      "['Bread'] -> ['Diaper']\n",
      "['Milk'] -> ['Bread']\n",
      "['Milk'] -> ['Diaper']\n",
      "['Diaper'] -> ['Bread']\n",
      "['Diaper'] -> ['Milk']\n",
      "['Diaper'] -> ['Beer']\n",
      "['Beer'] -> ['Bread']\n",
      "['Beer'] -> ['Milk']\n",
      "['Beer'] -> ['Diaper']\n",
      "['Beer'] -> ['Bread', 'Diaper']\n",
      "['Beer'] -> ['Milk', 'Diaper']\n",
      "['Coke'] -> ['Milk']\n",
      "['Coke'] -> ['Diaper']\n",
      "['Coke'] -> ['Milk', 'Diaper']\n",
      "['Bread', 'Milk'] -> ['Diaper']\n",
      "['Bread', 'Diaper'] -> ['Milk']\n",
      "['Bread', 'Diaper'] -> ['Beer']\n",
      "['Bread', 'Beer'] -> ['Diaper']\n",
      "['Milk', 'Diaper'] -> ['Bread']\n",
      "['Milk', 'Diaper'] -> ['Beer']\n",
      "['Milk', 'Diaper'] -> ['Coke']\n",
      "['Milk', 'Beer'] -> ['Diaper']\n",
      "['Milk', 'Coke'] -> ['Diaper']\n",
      "['Diaper', 'Beer'] -> ['Bread']\n",
      "['Diaper', 'Beer'] -> ['Milk']\n",
      "['Diaper', 'Coke'] -> ['Milk']\n"
     ]
    }
   ],
   "source": [
    "for i in freq_list:\n",
    "    for j in freq_list:\n",
    "        if check_contain(i,j) and i is not j:\n",
    "            if(frequent_dict.get(frozenset(j))/frequent_dict.get(frozenset(i))) >= 0.6:\n",
    "                print(i,'->',remove_duplicate(i,j))"
   ]
  },
  {
   "cell_type": "code",
   "execution_count": null,
   "metadata": {},
   "outputs": [],
   "source": []
  }
 ],
 "metadata": {
  "kernelspec": {
   "display_name": "Python 3",
   "language": "python",
   "name": "python3"
  },
  "language_info": {
   "codemirror_mode": {
    "name": "ipython",
    "version": 3
   },
   "file_extension": ".py",
   "mimetype": "text/x-python",
   "name": "python",
   "nbconvert_exporter": "python",
   "pygments_lexer": "ipython3",
   "version": "3.8.5"
  }
 },
 "nbformat": 4,
 "nbformat_minor": 4
}
